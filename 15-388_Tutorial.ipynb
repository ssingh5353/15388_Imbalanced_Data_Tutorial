{
 "cells": [
  {
   "cell_type": "markdown",
   "metadata": {},
   "source": [
    "# Introduction\n",
    "\n",
    "In certain applications of Data Science, one may find themselves needing to produce classification models where the data set provided to them has an extremely significant portion of the data in one classification class. In these situations, the models that are trained on extremely imbalanced datasets can exhibit a very undesirable behavior - only ever predicting the majority class.\n",
    "\n",
    "While only predicting the majority class would minimize the objective function used to train the model (which is almost always a metric quantifying raw error), it can lead to very dire consequences. Take credit card fraud detection as an example. Nearly all credit card transactions that occur are non-fraudulent, with a very tiny percentage of transactions being fraudulent. In this case, if the classification models that are being built don't take into account the imbalanced nature of the data, they would always predict any new transaction as non-fraudulent. This is obviously highly concerning and would be a major security risk.\n",
    "\n",
    "This tutorial will introduce methods to mitigate the problems that arise in creating classification models caused by training on imbalanced data."
   ]
  },
  {
   "cell_type": "markdown",
   "metadata": {},
   "source": [
    "# Tutorial Content\n",
    "\n"
   ]
  },
  {
   "cell_type": "markdown",
   "metadata": {},
   "source": [
    "This tutorial will cover the importance of carefully handling imbalanced data when creating classification models in the following sections:\n",
    "- [Installing Appropriate Packages](#Installing-Appropriate-Packages)\n",
    "- [Downloading Data File](#Downloading-Data-File)\n",
    "- [Explanation of Data](#Explanation-of-Data)\n",
    "- [Data Modification](#Data-Modification)\n",
    "- [Train-Test Split and Visualizing Imbalance in Train Data](#Train-Test-Split-and-Visualizing-Imblance-in-Train-Data)\n",
    "- [Unbalanced Classification Model](#Unbalanced-Classification-Model)\n",
    "- [Introduction of New Metric: Misclassification Cost](#Introduction-of-New-Metric:-Misclassification-Cost)\n",
    "- [Balanced Classification Model](#Balanced-Classification-Model)\n",
    "- [Summary](#Summary)\n",
    "- [Notes and Assumptions Made](#Notes-and-Assumptions-Made)\n",
    "- [References/Additional Resources](#References/Additional-Resources)"
   ]
  },
  {
   "cell_type": "markdown",
   "metadata": {},
   "source": [
    "# Installing Appropriate Packages"
   ]
  },
  {
   "cell_type": "markdown",
   "metadata": {},
   "source": [
    "This tutorial will be using the imbalanced-learn package. The imbalanced-learn package has the following dependencies:\n",
    "- python (>=3.6)\n",
    "    - Problems may arise with python 3.7: if this is the case, please downgrade to python 3.6.x\n",
    "- numpy (>=1.13.3)\n",
    "- scipy (>=0.19.1)\n",
    "- scikit-learn (>=0.23)\n",
    "\n",
    "Once all the dependencies are verified, you can install imbalanced-learn with the following pip command:\n",
    "\n",
    "    $ pip install -U imbalanced-learn\n",
    "    \n",
    "or the following conda command:\n",
    "\n",
    "    $ conda install -c conda-forge imbalanced-learn\n",
    "\n",
    "If you are still experiencing issues installing imbalanced-learn, please refer to the following documentation: https://imbalanced-learn.org/stable/install.html#getting-started "
   ]
  },
  {
   "cell_type": "markdown",
   "metadata": {},
   "source": [
    "# Downloading Data File"
   ]
  },
  {
   "cell_type": "markdown",
   "metadata": {},
   "source": [
    "To download the data file that will be used in the remainder of this tutorial, please click [here](http://archive.ics.uci.edu/ml/machine-learning-databases/balance-scale/balance-scale.data).\n",
    "\n",
    "Alternatively you may visit the following website: http://archive.ics.uci.edu/ml/machine-learning-databases/balance-scale/\n",
    "\n",
    "Click on the bullet point \"balance-scale.data\" to download the file called \"balance-scale.data\".\n",
    "\n",
    "Once all packages are installed and data is in the same directory as the notebook, you can proceed with the remainder of the tutorial."
   ]
  },
  {
   "cell_type": "code",
   "execution_count": 1,
   "metadata": {},
   "outputs": [],
   "source": [
    "import pandas as pd\n",
    "import matplotlib.pyplot as plt\n",
    "import collections\n",
    "import numpy as np\n",
    "\n",
    "from sklearn.model_selection import train_test_split\n",
    "from sklearn.linear_model import LogisticRegression\n",
    "from sklearn.metrics import plot_confusion_matrix\n",
    "from sklearn.metrics import roc_auc_score\n",
    "from sklearn.metrics import confusion_matrix\n",
    "\n",
    "from imblearn.over_sampling import ADASYN"
   ]
  },
  {
   "cell_type": "markdown",
   "metadata": {},
   "source": [
    "# Explanation of Data"
   ]
  },
  {
   "cell_type": "markdown",
   "metadata": {},
   "source": [
    "The example dataset contains 5 columns (labeled B, 1, 1.1, 1.2, 1.3) and 624 rows. In this tutorial, we will focus on the B column as our prediction goal and use the features 1, 1.1, 1.2, and 1.3 to predict. The column we are trying to predict can be classified as R, L, or B while the features will be either 1, 2, 3, 4, or 5. The data is quite imbalanced as there are very few rows which classify as B."
   ]
  },
  {
   "cell_type": "code",
   "execution_count": 2,
   "metadata": {},
   "outputs": [
    {
     "data": {
      "text/html": [
       "<div>\n",
       "<style scoped>\n",
       "    .dataframe tbody tr th:only-of-type {\n",
       "        vertical-align: middle;\n",
       "    }\n",
       "\n",
       "    .dataframe tbody tr th {\n",
       "        vertical-align: top;\n",
       "    }\n",
       "\n",
       "    .dataframe thead th {\n",
       "        text-align: right;\n",
       "    }\n",
       "</style>\n",
       "<table border=\"1\" class=\"dataframe\">\n",
       "  <thead>\n",
       "    <tr style=\"text-align: right;\">\n",
       "      <th></th>\n",
       "      <th>B</th>\n",
       "      <th>1</th>\n",
       "      <th>1.1</th>\n",
       "      <th>1.2</th>\n",
       "      <th>1.3</th>\n",
       "    </tr>\n",
       "  </thead>\n",
       "  <tbody>\n",
       "    <tr>\n",
       "      <th>0</th>\n",
       "      <td>R</td>\n",
       "      <td>1</td>\n",
       "      <td>1</td>\n",
       "      <td>1</td>\n",
       "      <td>2</td>\n",
       "    </tr>\n",
       "    <tr>\n",
       "      <th>1</th>\n",
       "      <td>R</td>\n",
       "      <td>1</td>\n",
       "      <td>1</td>\n",
       "      <td>1</td>\n",
       "      <td>3</td>\n",
       "    </tr>\n",
       "    <tr>\n",
       "      <th>2</th>\n",
       "      <td>R</td>\n",
       "      <td>1</td>\n",
       "      <td>1</td>\n",
       "      <td>1</td>\n",
       "      <td>4</td>\n",
       "    </tr>\n",
       "    <tr>\n",
       "      <th>3</th>\n",
       "      <td>R</td>\n",
       "      <td>1</td>\n",
       "      <td>1</td>\n",
       "      <td>1</td>\n",
       "      <td>5</td>\n",
       "    </tr>\n",
       "    <tr>\n",
       "      <th>4</th>\n",
       "      <td>R</td>\n",
       "      <td>1</td>\n",
       "      <td>1</td>\n",
       "      <td>2</td>\n",
       "      <td>1</td>\n",
       "    </tr>\n",
       "    <tr>\n",
       "      <th>...</th>\n",
       "      <td>...</td>\n",
       "      <td>...</td>\n",
       "      <td>...</td>\n",
       "      <td>...</td>\n",
       "      <td>...</td>\n",
       "    </tr>\n",
       "    <tr>\n",
       "      <th>619</th>\n",
       "      <td>L</td>\n",
       "      <td>5</td>\n",
       "      <td>5</td>\n",
       "      <td>5</td>\n",
       "      <td>1</td>\n",
       "    </tr>\n",
       "    <tr>\n",
       "      <th>620</th>\n",
       "      <td>L</td>\n",
       "      <td>5</td>\n",
       "      <td>5</td>\n",
       "      <td>5</td>\n",
       "      <td>2</td>\n",
       "    </tr>\n",
       "    <tr>\n",
       "      <th>621</th>\n",
       "      <td>L</td>\n",
       "      <td>5</td>\n",
       "      <td>5</td>\n",
       "      <td>5</td>\n",
       "      <td>3</td>\n",
       "    </tr>\n",
       "    <tr>\n",
       "      <th>622</th>\n",
       "      <td>L</td>\n",
       "      <td>5</td>\n",
       "      <td>5</td>\n",
       "      <td>5</td>\n",
       "      <td>4</td>\n",
       "    </tr>\n",
       "    <tr>\n",
       "      <th>623</th>\n",
       "      <td>B</td>\n",
       "      <td>5</td>\n",
       "      <td>5</td>\n",
       "      <td>5</td>\n",
       "      <td>5</td>\n",
       "    </tr>\n",
       "  </tbody>\n",
       "</table>\n",
       "<p>624 rows × 5 columns</p>\n",
       "</div>"
      ],
      "text/plain": [
       "     B  1  1.1  1.2  1.3\n",
       "0    R  1    1    1    2\n",
       "1    R  1    1    1    3\n",
       "2    R  1    1    1    4\n",
       "3    R  1    1    1    5\n",
       "4    R  1    1    2    1\n",
       "..  .. ..  ...  ...  ...\n",
       "619  L  5    5    5    1\n",
       "620  L  5    5    5    2\n",
       "621  L  5    5    5    3\n",
       "622  L  5    5    5    4\n",
       "623  B  5    5    5    5\n",
       "\n",
       "[624 rows x 5 columns]"
      ]
     },
     "execution_count": 2,
     "metadata": {},
     "output_type": "execute_result"
    }
   ],
   "source": [
    "df = pd.read_csv('balance-scale.data')\n",
    "df"
   ]
  },
  {
   "cell_type": "code",
   "execution_count": 3,
   "metadata": {},
   "outputs": [
    {
     "data": {
      "text/plain": [
       "Text(0.5, 1.0, 'Frequency of Y Categories')"
      ]
     },
     "execution_count": 3,
     "metadata": {},
     "output_type": "execute_result"
    },
    {
     "data": {
      "image/png": "[encoded data removed]",
      "text/plain": [
       "<Figure size 432x288 with 1 Axes>"
      ]
     },
     "metadata": {
      "needs_background": "light"
     },
     "output_type": "display_data"
    }
   ],
   "source": [
    "counts = collections.Counter(df['B'])\n",
    "plt.bar(range(len(counts)), list(counts.values()), tick_label=list(counts.keys()))\n",
    "\n",
    "plt.xlabel(\"Prediction Category\")\n",
    "plt.ylabel(\"Frequency\")\n",
    "plt.title(\"Frequency of Y Categories\")"
   ]
  },
  {
   "cell_type": "markdown",
   "metadata": {},
   "source": [
    "# Data Modification"
   ]
  },
  {
   "cell_type": "markdown",
   "metadata": {},
   "source": [
    "In order to stay consistent with the credit card fraud detection example that was stated earlier in the tutorial, we will be slightly modifying the dataset to fit the metaphor. To start, the columns will be renamed for better readability. We will now be predicting Y from the features X1, X2, X3, and X4. The values for each of the features will stay the same, however the values for the Y column will be filled with \"Fraudulent\" if the original value was \"B\" and with \"Non-fraudulent\" if the value was not \"B\". Each row in the dataset should be considered one credit card transaction. The goal for our classification model will be to minimize the costs associated with improperly identifying a transaction."
   ]
  },
  {
   "cell_type": "code",
   "execution_count": 4,
   "metadata": {},
   "outputs": [
    {
     "data": {
      "text/html": [
       "<div>\n",
       "<style scoped>\n",
       "    .dataframe tbody tr th:only-of-type {\n",
       "        vertical-align: middle;\n",
       "    }\n",
       "\n",
       "    .dataframe tbody tr th {\n",
       "        vertical-align: top;\n",
       "    }\n",
       "\n",
       "    .dataframe thead th {\n",
       "        text-align: right;\n",
       "    }\n",
       "</style>\n",
       "<table border=\"1\" class=\"dataframe\">\n",
       "  <thead>\n",
       "    <tr style=\"text-align: right;\">\n",
       "      <th></th>\n",
       "      <th>Y</th>\n",
       "      <th>X1</th>\n",
       "      <th>X2</th>\n",
       "      <th>X3</th>\n",
       "      <th>X4</th>\n",
       "    </tr>\n",
       "  </thead>\n",
       "  <tbody>\n",
       "    <tr>\n",
       "      <th>0</th>\n",
       "      <td>Non-fraudulent</td>\n",
       "      <td>1</td>\n",
       "      <td>1</td>\n",
       "      <td>1</td>\n",
       "      <td>2</td>\n",
       "    </tr>\n",
       "    <tr>\n",
       "      <th>1</th>\n",
       "      <td>Non-fraudulent</td>\n",
       "      <td>1</td>\n",
       "      <td>1</td>\n",
       "      <td>1</td>\n",
       "      <td>3</td>\n",
       "    </tr>\n",
       "    <tr>\n",
       "      <th>2</th>\n",
       "      <td>Non-fraudulent</td>\n",
       "      <td>1</td>\n",
       "      <td>1</td>\n",
       "      <td>1</td>\n",
       "      <td>4</td>\n",
       "    </tr>\n",
       "    <tr>\n",
       "      <th>3</th>\n",
       "      <td>Non-fraudulent</td>\n",
       "      <td>1</td>\n",
       "      <td>1</td>\n",
       "      <td>1</td>\n",
       "      <td>5</td>\n",
       "    </tr>\n",
       "    <tr>\n",
       "      <th>4</th>\n",
       "      <td>Non-fraudulent</td>\n",
       "      <td>1</td>\n",
       "      <td>1</td>\n",
       "      <td>2</td>\n",
       "      <td>1</td>\n",
       "    </tr>\n",
       "    <tr>\n",
       "      <th>...</th>\n",
       "      <td>...</td>\n",
       "      <td>...</td>\n",
       "      <td>...</td>\n",
       "      <td>...</td>\n",
       "      <td>...</td>\n",
       "    </tr>\n",
       "    <tr>\n",
       "      <th>619</th>\n",
       "      <td>Non-fraudulent</td>\n",
       "      <td>5</td>\n",
       "      <td>5</td>\n",
       "      <td>5</td>\n",
       "      <td>1</td>\n",
       "    </tr>\n",
       "    <tr>\n",
       "      <th>620</th>\n",
       "      <td>Non-fraudulent</td>\n",
       "      <td>5</td>\n",
       "      <td>5</td>\n",
       "      <td>5</td>\n",
       "      <td>2</td>\n",
       "    </tr>\n",
       "    <tr>\n",
       "      <th>621</th>\n",
       "      <td>Non-fraudulent</td>\n",
       "      <td>5</td>\n",
       "      <td>5</td>\n",
       "      <td>5</td>\n",
       "      <td>3</td>\n",
       "    </tr>\n",
       "    <tr>\n",
       "      <th>622</th>\n",
       "      <td>Non-fraudulent</td>\n",
       "      <td>5</td>\n",
       "      <td>5</td>\n",
       "      <td>5</td>\n",
       "      <td>4</td>\n",
       "    </tr>\n",
       "    <tr>\n",
       "      <th>623</th>\n",
       "      <td>Fraudulent</td>\n",
       "      <td>5</td>\n",
       "      <td>5</td>\n",
       "      <td>5</td>\n",
       "      <td>5</td>\n",
       "    </tr>\n",
       "  </tbody>\n",
       "</table>\n",
       "<p>624 rows × 5 columns</p>\n",
       "</div>"
      ],
      "text/plain": [
       "                  Y  X1  X2  X3  X4\n",
       "0    Non-fraudulent   1   1   1   2\n",
       "1    Non-fraudulent   1   1   1   3\n",
       "2    Non-fraudulent   1   1   1   4\n",
       "3    Non-fraudulent   1   1   1   5\n",
       "4    Non-fraudulent   1   1   2   1\n",
       "..              ...  ..  ..  ..  ..\n",
       "619  Non-fraudulent   5   5   5   1\n",
       "620  Non-fraudulent   5   5   5   2\n",
       "621  Non-fraudulent   5   5   5   3\n",
       "622  Non-fraudulent   5   5   5   4\n",
       "623      Fraudulent   5   5   5   5\n",
       "\n",
       "[624 rows x 5 columns]"
      ]
     },
     "execution_count": 4,
     "metadata": {},
     "output_type": "execute_result"
    }
   ],
   "source": [
    "df.rename(columns={\"B\": \"Y\", \"1\": \"X1\", \"1.1\": \"X2\", \"1.2\": \"X3\", \"1.3\": \"X4\"}, inplace = True)\n",
    "\n",
    "modified_y_vals = []\n",
    "\n",
    "# Iterate over rows and modify \"B\" to \"Fraudulent\" and all other to \"Non-fraudulent\"\n",
    "for index, row in df.iterrows():\n",
    "    y_val = row['Y']\n",
    "    if y_val == \"B\":\n",
    "        modified_y_vals.append(\"Fraudulent\")\n",
    "    else:\n",
    "        modified_y_vals.append(\"Non-fraudulent\")\n",
    "\n",
    "# Replacing original Y column with new credit card terms\n",
    "df['Y'] = modified_y_vals\n",
    "df"
   ]
  },
  {
   "cell_type": "markdown",
   "metadata": {},
   "source": [
    "# Train-Test Split and Visualizing Imbalance in Train Data\n",
    "\n",
    "After performing an 80-20 train test split on the dataset, we can very obviously see that there is a major classification imbalance in the training data. This can be a cause for concern when we build our classification models."
   ]
  },
  {
   "cell_type": "code",
   "execution_count": 5,
   "metadata": {},
   "outputs": [],
   "source": [
    "X = df.drop(columns=['Y'])\n",
    "Y = df['Y']\n",
    "\n",
    "X_train, X_test, y_train, y_test = train_test_split(X, Y, test_size=0.2, random_state=1)"
   ]
  },
  {
   "cell_type": "code",
   "execution_count": 6,
   "metadata": {},
   "outputs": [
    {
     "data": {
      "text/plain": [
       "Text(0.5, 1.0, 'Frequency of Y Categories')"
      ]
     },
     "execution_count": 6,
     "metadata": {},
     "output_type": "execute_result"
    },
    {
     "data": {
      "image/png": "[encoded data removed]",
      "text/plain": [
       "<Figure size 432x288 with 1 Axes>"
      ]
     },
     "metadata": {
      "needs_background": "light"
     },
     "output_type": "display_data"
    }
   ],
   "source": [
    "counts = collections.Counter(y_train)\n",
    "plt.bar(range(len(counts)), list(counts.values()), tick_label=list(counts.keys()))\n",
    "\n",
    "plt.xlabel(\"Prediction Category\")\n",
    "plt.ylabel(\"Frequency\")\n",
    "plt.title(\"Frequency of Y Categories on Train Data\")"
   ]
  },
  {
   "cell_type": "markdown",
   "metadata": {},
   "source": [
    "# Unbalanced Classification Model\n",
    "\n",
    "At a first glance, our models seem to be performing very well. When training a vanilla logistic regression, our train accuracy is over 93% and our test accuracy is exactly 88%. However, given how unbalanced our training data was, it is important to be skeptical about why these accuracies are so high. Further examination is necessary."
   ]
  },
  {
   "cell_type": "code",
   "execution_count": 7,
   "metadata": {},
   "outputs": [
    {
     "name": "stdout",
     "output_type": "stream",
     "text": [
      "Train accuracy: 0.9338677354709419\n",
      "Test accuracy: 0.88\n"
     ]
    }
   ],
   "source": [
    "logistic_model = LogisticRegression()\n",
    "logistic_model.fit(X_train, y_train)\n",
    "\n",
    "train_accuracy = logistic_model.score(X_train, y_train)\n",
    "test_accuracy = logistic_model.score(X_test, y_test)\n",
    "\n",
    "print(\"Train accuracy: \" + str(train_accuracy))\n",
    "print(\"Test accuracy: \" + str(test_accuracy))"
   ]
  },
  {
   "cell_type": "markdown",
   "metadata": {},
   "source": [
    "When you create the confusion matrix for both the train and test data, it becomes very obvious why the accuracies were so high. The model would predict all transactions to be non-fraudulent. Since very few transactions in the dataset are fraudulent, always guessing non-fraudulent would result in high accuracy. For the credit card company, however, this type of behavior is obviously unacceptable. The cost of having a fraudulent transaction be classified as non-fraudulent is enormous."
   ]
  },
  {
   "cell_type": "code",
   "execution_count": 8,
   "metadata": {},
   "outputs": [
    {
     "name": "stdout",
     "output_type": "stream",
     "text": [
      "The model predicted fraud 0 times on train data\n",
      "The model predicted no fraud 499 times on train data\n"
     ]
    },
    {
     "data": {
      "image/png": "[encoded data removed]",
      "text/plain": [
       "<Figure size 432x288 with 2 Axes>"
      ]
     },
     "metadata": {
      "needs_background": "light"
     },
     "output_type": "display_data"
    }
   ],
   "source": [
    "plot_confusion_matrix(logistic_model, X_train, y_train)\n",
    "\n",
    "train_pred = logistic_model.predict(X_train)\n",
    "num_times_guessed_fraud = np.sum(train_pred == \"Fraudulent\")\n",
    "num_times_guessed_no_fraud = np.sum(train_pred == \"Non-fraudulent\")\n",
    "\n",
    "print(\"The model predicted fraud \" + str(num_times_guessed_fraud) + \" times on train data\")\n",
    "print(\"The model predicted no fraud \" + str(num_times_guessed_no_fraud) + \" times on train data\")"
   ]
  },
  {
   "cell_type": "code",
   "execution_count": 9,
   "metadata": {},
   "outputs": [
    {
     "name": "stdout",
     "output_type": "stream",
     "text": [
      "The model predicted fraud 0 times on test data\n",
      "The model predicted no fraud 125 times on test data\n"
     ]
    },
    {
     "data": {
      "image/png": "[encoded data removed]",
      "text/plain": [
       "<Figure size 432x288 with 2 Axes>"
      ]
     },
     "metadata": {
      "needs_background": "light"
     },
     "output_type": "display_data"
    }
   ],
   "source": [
    "plot_confusion_matrix(logistic_model, X_test, y_test)\n",
    "\n",
    "test_pred = logistic_model.predict(X_test)\n",
    "num_times_guessed_fraud = np.sum(test_pred == \"Fraudulent\")\n",
    "num_times_guessed_no_fraud = np.sum(test_pred == \"Non-fraudulent\")\n",
    "\n",
    "print(\"The model predicted fraud \" + str(num_times_guessed_fraud) + \" times on test data\")\n",
    "print(\"The model predicted no fraud \" + str(num_times_guessed_no_fraud) + \" times on test data\")"
   ]
  },
  {
   "cell_type": "markdown",
   "metadata": {},
   "source": [
    "When examining AUC scores on the train and test data sets, we find them to be extremely low. In fact, the test data AUC score is less than 0.5, which indicates it is performing worse than guessing randomly between the two classes."
   ]
  },
  {
   "cell_type": "code",
   "execution_count": 10,
   "metadata": {},
   "outputs": [
    {
     "name": "stdout",
     "output_type": "stream",
     "text": [
      "Train AUC: 0.5314085056574326\n",
      "Test AUC: 0.4096969696969697\n"
     ]
    }
   ],
   "source": [
    "auc_train = roc_auc_score(y_train, logistic_model.decision_function(X_train))\n",
    "auc_test = roc_auc_score(y_test, logistic_model.decision_function(X_test))\n",
    "\n",
    "print(\"Train AUC: \" + str(auc_train))\n",
    "print(\"Test AUC: \" + str(auc_test))"
   ]
  },
  {
   "cell_type": "markdown",
   "metadata": {},
   "source": [
    "# Introduction of New Metric: Misclassification Cost\n",
    "\n",
    "In order for a metric to better fit this scenario, it would need to take into the account that one type of misclassification is much costlier than another type of misclassification. The function for misclassification cost defined below."
   ]
  },
  {
   "cell_type": "code",
   "execution_count": 11,
   "metadata": {},
   "outputs": [],
   "source": [
    "def misclassification_cost(y_true, y_pred, cost_of_fraud, cost_of_false_accusation):\n",
    "    # Use confusion matrix function to find wrongly classified transactions\n",
    "    _, num_fraud, num_false_accusation, _ = confusion_matrix(y_true, y_pred).ravel()\n",
    "\n",
    "    fraud_costs = num_fraud * cost_of_fraud\n",
    "    non_fraud_costs = num_false_accusation * cost_of_false_accusation\n",
    "    \n",
    "    return fraud_costs + non_fraud_costs"
   ]
  },
  {
   "cell_type": "markdown",
   "metadata": {},
   "source": [
    "Given that allowing credit card fraud to occur can be financially crippling for the individual involved and extremely damaging for the company itself, the remainder of the tutorial will run under the assumption that the cost of allowing fraud to occur is ten times greater than the cost of falsely labeling a transaction as fraudulent. "
   ]
  },
  {
   "cell_type": "code",
   "execution_count": 12,
   "metadata": {},
   "outputs": [],
   "source": [
    "cost_of_fraud = 10\n",
    "cost_of_false_accusation = 1"
   ]
  },
  {
   "cell_type": "markdown",
   "metadata": {},
   "source": [
    "The testing misclassification cost of a model trained on unbalanced data is 150 units of cost when the costs of each misclassification are defined as above. After balancing the train data, we hope to reduce the misclassification cost."
   ]
  },
  {
   "cell_type": "code",
   "execution_count": 13,
   "metadata": {},
   "outputs": [
    {
     "name": "stdout",
     "output_type": "stream",
     "text": [
      "Unbalanced misclassification cost: 150\n"
     ]
    }
   ],
   "source": [
    "unbalanced_misclass_cost = misclassification_cost(y_test, test_pred, cost_of_fraud, cost_of_false_accusation)\n",
    "print(\"Unbalanced misclassification cost: \" + str(unbalanced_misclass_cost))"
   ]
  },
  {
   "cell_type": "markdown",
   "metadata": {},
   "source": [
    "# Balanced Classification Model\n",
    "\n",
    "In order to balance imbalanced data, there are two sampling main methods of doing so: oversampling and undersampling.\n",
    "\n",
    "Oversampling is a technique in which you duplicate instances of minority class until there is equal representation in both groups. Undersampling is a technique in which you eliminate instances of the majority class until there is equal representation in both groups.\n",
    "\n",
    "The main drawback for oversampling is that the duplicated rows become overrepresented in the training process and the model would unfairly overfit this duplicated data. The drawback of undersampling, on the other hand, would be the loss of information from discarding a significant amount of training data.\n",
    "\n",
    "One technique to avoid these issues would be using the ADASYN (Adaptive Synthetic) algorithm on the initial training data. This algorithm will create synthetic data that is not a direct copy of existing rows. Therefore, we will not have the issue of overrepresenting data points that we would get in a typical oversampling technique.\n",
    "\n",
    "Details about how the ADASYN algorithm generates synthetic data are linked at the bottom of the tutorial.\n",
    "\n",
    "In the imbalanced-learn package, ADASYN resampling is done by creating an ADASYN object and then calling the `fit_resample` method on the desired data."
   ]
  },
  {
   "cell_type": "code",
   "execution_count": 14,
   "metadata": {},
   "outputs": [],
   "source": [
    "resampler = ADASYN(random_state = 1)\n",
    "\n",
    "X_train, y_train = resampler.fit_resample(X_train, y_train)"
   ]
  },
  {
   "cell_type": "markdown",
   "metadata": {},
   "source": [
    "After resampling, the minority and majority classes are now equally represented. "
   ]
  },
  {
   "cell_type": "code",
   "execution_count": 15,
   "metadata": {},
   "outputs": [
    {
     "data": {
      "text/plain": [
       "Text(0.5, 1.0, 'Frequency of Y Categories')"
      ]
     },
     "execution_count": 15,
     "metadata": {},
     "output_type": "execute_result"
    },
    {
     "data": {
      "image/png": "[encoded data removed]",
      "text/plain": [
       "<Figure size 432x288 with 1 Axes>"
      ]
     },
     "metadata": {
      "needs_background": "light"
     },
     "output_type": "display_data"
    }
   ],
   "source": [
    "counts = collections.Counter(y_train)\n",
    "plt.bar(range(len(counts)), list(counts.values()), tick_label=list(counts.keys()))\n",
    "\n",
    "plt.xlabel(\"Prediction Category\")\n",
    "plt.ylabel(\"Frequency\")\n",
    "plt.title(\"Frequency of Y Categories\")"
   ]
  },
  {
   "cell_type": "markdown",
   "metadata": {},
   "source": [
    "With the newly sampled data, both our train and test accuracy fall dramatically by running the same logistic regression. This may seem concerning, but it is important to keep in mind that our most important metric is misclassification cost."
   ]
  },
  {
   "cell_type": "code",
   "execution_count": 16,
   "metadata": {},
   "outputs": [
    {
     "name": "stdout",
     "output_type": "stream",
     "text": [
      "Train accuracy: 0.5661605206073753\n",
      "Test accuracy: 0.616\n"
     ]
    }
   ],
   "source": [
    "logistic_model = LogisticRegression()\n",
    "logistic_model.fit(X_train, y_train)\n",
    "\n",
    "train_accuracy = logistic_model.score(X_train, y_train)\n",
    "test_accuracy = logistic_model.score(X_test, y_test)\n",
    "\n",
    "print(\"Train accuracy: \" + str(train_accuracy))\n",
    "print(\"Test accuracy: \" + str(test_accuracy))"
   ]
  },
  {
   "cell_type": "markdown",
   "metadata": {},
   "source": [
    "Immediately we can see how our new model is no longer guessing \"Non-fraudulent\" every single time. Attempting to catch fraudulent transactions is far more desirable than passing every single transaction as non-fraudulent."
   ]
  },
  {
   "cell_type": "code",
   "execution_count": 17,
   "metadata": {},
   "outputs": [
    {
     "name": "stdout",
     "output_type": "stream",
     "text": [
      "The model predicted fraud 424 times on train data\n",
      "The model predicted no fraud 498 times on train data\n"
     ]
    },
    {
     "data": {
      "image/png": "[encoded data removed]",
      "text/plain": [
       "<Figure size 432x288 with 2 Axes>"
      ]
     },
     "metadata": {
      "needs_background": "light"
     },
     "output_type": "display_data"
    }
   ],
   "source": [
    "plot_confusion_matrix(logistic_model, X_train, y_train)\n",
    "\n",
    "train_pred = logistic_model.predict(X_train)\n",
    "num_times_guessed_fraud = np.sum(train_pred == \"Fraudulent\")\n",
    "num_times_guessed_no_fraud = np.sum(train_pred == \"Non-fraudulent\")\n",
    "\n",
    "print(\"The model predicted fraud \" + str(num_times_guessed_fraud) + \" times on train data\")\n",
    "print(\"The model predicted no fraud \" + str(num_times_guessed_no_fraud) + \" times on train data\")"
   ]
  },
  {
   "cell_type": "code",
   "execution_count": 18,
   "metadata": {},
   "outputs": [
    {
     "name": "stdout",
     "output_type": "stream",
     "text": [
      "The model predicted fraud 51 times on test data\n",
      "The model predicted no fraud 74 times on test data\n"
     ]
    },
    {
     "data": {
      "image/png": "[encoded data removed]",
      "text/plain": [
       "<Figure size 432x288 with 2 Axes>"
      ]
     },
     "metadata": {
      "needs_background": "light"
     },
     "output_type": "display_data"
    }
   ],
   "source": [
    "plot_confusion_matrix(logistic_model, X_test, y_test)\n",
    "\n",
    "test_pred = logistic_model.predict(X_test)\n",
    "num_times_guessed_fraud = np.sum(test_pred == \"Fraudulent\")\n",
    "num_times_guessed_no_fraud = np.sum(test_pred == \"Non-fraudulent\")\n",
    "\n",
    "print(\"The model predicted fraud \" + str(num_times_guessed_fraud) + \" times on test data\")\n",
    "print(\"The model predicted no fraud \" + str(num_times_guessed_no_fraud) + \" times on test data\")"
   ]
  },
  {
   "cell_type": "markdown",
   "metadata": {},
   "source": [
    "The rise in both train and test AUC scores further indicates that the model's classification performance has improved as compared to before resampling the training data."
   ]
  },
  {
   "cell_type": "code",
   "execution_count": 19,
   "metadata": {},
   "outputs": [
    {
     "name": "stdout",
     "output_type": "stream",
     "text": [
      "Train AUC: 0.5920111437391763\n",
      "Test AUC: 0.5709090909090909\n"
     ]
    }
   ],
   "source": [
    "auc_train = roc_auc_score(y_train, logistic_model.decision_function(X_train))\n",
    "auc_test = roc_auc_score(y_test, logistic_model.decision_function(X_test))\n",
    "\n",
    "print(\"Train AUC: \" + str(auc_train))\n",
    "print(\"Test AUC: \" + str(auc_test))"
   ]
  },
  {
   "cell_type": "markdown",
   "metadata": {},
   "source": [
    "Finally, we can see that the total misclassification cost with the same cost for missing fraudulent activity and for falsely tagging a legitimate transaction as fraudulent (10 and 1 respectively) is only 102 units of cost when the training data is resampled with the ADASYN algorithm. This 102 units of cost is significantly lower than the above 150 units of cost when the training data is not resampled."
   ]
  },
  {
   "cell_type": "code",
   "execution_count": 20,
   "metadata": {},
   "outputs": [
    {
     "name": "stdout",
     "output_type": "stream",
     "text": [
      "Balanced misclassification cost: 102\n"
     ]
    }
   ],
   "source": [
    "balanced_misclass_cost = misclassification_cost(y_test, test_pred, cost_of_fraud, cost_of_false_accusation)\n",
    "print(\"Balanced misclassification cost: \" + str(balanced_misclass_cost))"
   ]
  },
  {
   "cell_type": "markdown",
   "metadata": {},
   "source": [
    "# Summary\n",
    "\n",
    "This tutorial covered the impact that training classification models on imbalanced data can have and how to improve model performance when pure error is not an appropriate performance metric. Only one algorithm was covered and much more information about the imbalanced-learn package, ADASYN algorithm, and other resampling algorithms can be found at the links below."
   ]
  },
  {
   "cell_type": "markdown",
   "metadata": {},
   "source": [
    "# Notes and Assumptions Made\n",
    "- All function calls that involve elements of randomization were given a seed for reproducibility of numbers.\n",
    "- The costs associated with misclassification were mere estimates and more research would need to be conducted to understand the impact of misclassifying credit card fraud.\n",
    "- Other resampling algorithms could be used in this case to improve misclassification cost. ADASYN is not necessarily the optimal algorithm for all situations. Information for other algorithms are linked below.\n",
    "- A logistic regression was used to simplify the explanation of dealing with data imbalance. Other classification algorithms may have worked better in detecting credit card fraud."
   ]
  },
  {
   "cell_type": "markdown",
   "metadata": {},
   "source": [
    "# References/Additional Resources\n",
    "\n",
    "- imbalanced-learn documentation: https://imbalanced-learn.org/stable/references/index.html#api\n",
    "- ADASYN algorithm : https://medium.com/@ruinian/an-introduction-to-adasyn-with-code-1383a5ece7aa\n",
    "- Other resampling algorithms: https://machinelearningmastery.com/data-sampling-methods-for-imbalanced-classification/"
   ]
  },
  {
   "cell_type": "code",
   "execution_count": null,
   "metadata": {},
   "outputs": [],
   "source": []
  }
 ],
 "metadata": {
  "kernelspec": {
   "display_name": "Python 3",
   "language": "python",
   "name": "python3"
  },
  "language_info": {
   "codemirror_mode": {
    "name": "ipython",
    "version": 3
   },
   "file_extension": ".py",
   "mimetype": "text/x-python",
   "name": "python",
   "nbconvert_exporter": "python",
   "pygments_lexer": "ipython3",
   "version": "3.8.5"
  }
 },
 "nbformat": 4,
 "nbformat_minor": 4
}
